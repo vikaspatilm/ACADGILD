{
 "cells": [
  {
   "cell_type": "code",
   "execution_count": 1,
   "metadata": {},
   "outputs": [
    {
     "data": {
      "text/plain": [
       "'2002,2009,2016,2023,2037,2044,2051,2058,2072,2079,2086,2093,2107,2114,2121,2128,2142,2149,2156,2163,2177,2184,2191,2198,2212,2219,2226,2233,2247,2254,2261,2268,2282,2289,2296,2303,2317,2324,2331,2338,2352,2359,2366,2373,2387,2394,2401,2408,2422,2429,2436,2443,2457,2464,2471,2478,2492,2499,2506,2513,2527,2534,2541,2548,2562,2569,2576,2583,2597,2604,2611,2618,2632,2639,2646,2653,2667,2674,2681,2688,2702,2709,2716,2723,2737,2744,2751,2758,2772,2779,2786,2793,2807,2814,2821,2828,2842,2849,2856,2863,2877,2884,2891,2898,2912,2919,2926,2933,2947,2954,2961,2968,2982,2989,2996,3003,3017,3024,3031,3038,3052,3059,3066,3073,3087,3094,3101,3108,3122,3129,3136,3143,3157,3164,3171,3178,3192,3199'"
      ]
     },
     "execution_count": 1,
     "metadata": {},
     "output_type": "execute_result"
    }
   ],
   "source": [
    "fnlnumstr = 'a'\n",
    "numstr = list(range(2000,3200))\n",
    "for i in range(1,len(numstr)):\n",
    "    if numstr[i] % 7 == 0 and numstr[i] % 5 != 0:\n",
    "        if fnlnumstr == 'a':\n",
    "            fnlnumstr = str(numstr[i])\n",
    "        else:\n",
    "            fnlnumstr = fnlnumstr + ',' + str(numstr[i])\n",
    "fnlnumstr"
   ]
  },
  {
   "cell_type": "code",
   "execution_count": 2,
   "metadata": {},
   "outputs": [
    {
     "name": "stdout",
     "output_type": "stream",
     "text": [
      "Please enter your first name : Vikas\n",
      "Please enter your last name : Patil\n",
      "sakiV litaP\n"
     ]
    }
   ],
   "source": [
    "firstname = input(\"Please enter your first name : \")\n",
    "lastname = input(\"Please enter your last name : \")\n",
    "print(firstname[::-1]+ ' '+lastname[::-1])"
   ]
  },
  {
   "cell_type": "code",
   "execution_count": 5,
   "metadata": {},
   "outputs": [
    {
     "name": "stdout",
     "output_type": "stream",
     "text": [
      "7238.229473870882\n"
     ]
    }
   ],
   "source": [
    "import numpy as np\n",
    "def get_sphere_volume(radius):\n",
    "    print((4/3) * np.pi * radius **3)\n",
    "\n",
    "get_sphere_volume(12)"
   ]
  },
  {
   "cell_type": "code",
   "execution_count": 1,
   "metadata": {},
   "outputs": [
    {
     "name": "stdout",
     "output_type": "stream",
     "text": [
      "Please enter values : 12,45,69,WER,FGH\n"
     ]
    },
    {
     "data": {
      "text/plain": [
       "['12', '45', '69', 'WER', 'FGH']"
      ]
     },
     "execution_count": 1,
     "metadata": {},
     "output_type": "execute_result"
    }
   ],
   "source": [
    "opStr = list()\n",
    "inStr = input(\"Please enter values : \")\n",
    "opStr = inStr.split(',')\n",
    "opStr"
   ]
  },
  {
   "cell_type": "code",
   "execution_count": 2,
   "metadata": {},
   "outputs": [
    {
     "name": "stdout",
     "output_type": "stream",
     "text": [
      "Please enter the string to be reversed :AcadGild\n",
      "dliGdacA\n"
     ]
    }
   ],
   "source": [
    "inStr = input(\"Please enter the string to be reversed :\")\n",
    "print(inStr[::-1])"
   ]
  },
  {
   "cell_type": "code",
   "execution_count": 4,
   "metadata": {
    "scrolled": true
   },
   "outputs": [
    {
     "name": "stdout",
     "output_type": "stream",
     "text": [
      "WE, THE PEOPLE OF INDIA,\n",
      "\thaving solemnly resolved to constitute India into a SOVEREIGN,!\n",
      "\t\tSOCIALIST, SECULAR, DEMOCRATIC\n",
      "\t\t REPUBLIC and to secure to all its citizens\n"
     ]
    }
   ],
   "source": [
    "opStr=\"WE, THE PEOPLE OF INDIA,\\n\\thaving solemnly resolved to constitute India into a SOVEREIGN,!\\n\\t\\tSOCIALIST, SECULAR, DEMOCRATIC\\n\\t\\t REPUBLIC and to secure to all its citizens\"\n",
    "print(opStr)"
   ]
  },
  {
   "cell_type": "code",
   "execution_count": 5,
   "metadata": {},
   "outputs": [
    {
     "name": "stdout",
     "output_type": "stream",
     "text": [
      "*\n",
      "**\n",
      "***\n",
      "****\n",
      "*****\n",
      "****\n",
      "***\n",
      "**\n",
      "*\n"
     ]
    }
   ],
   "source": [
    "i = 4\n",
    "j = 1\n",
    "printStr = \"*\"\n",
    "while j < 6:\n",
    "    print(printStr*j)\n",
    "    j = j + 1\n",
    "    if j == 6:\n",
    "        while i > 0:\n",
    "            print(printStr*i)\n",
    "            i = i - 1"
   ]
  },
  {
   "cell_type": "code",
   "execution_count": 2,
   "metadata": {},
   "outputs": [
    {
     "data": {
      "text/plain": [
       "113"
      ]
     },
     "execution_count": 2,
     "metadata": {},
     "output_type": "execute_result"
    }
   ],
   "source": [
    "def myReduce(myFunc, mySequence):\n",
    "    opResult = mySequence[0]\n",
    "    #print(opResult)\n",
    "    for x in mySequence[1:]:\n",
    "        #print(x)\n",
    "        opResult = myFunc(opResult , x)\n",
    "    return opResult\n",
    "lst =[47,11,42,13]\n",
    "myReduce(lambda x,y: x+y,lst)"
   ]
  },
  {
   "cell_type": "code",
   "execution_count": 7,
   "metadata": {},
   "outputs": [
    {
     "data": {
      "text/plain": [
       "[0, 2, 4, 6, 8, 10, 12, 14, 16, 18]"
      ]
     },
     "execution_count": 7,
     "metadata": {},
     "output_type": "execute_result"
    }
   ],
   "source": [
    "def even_check(num):\n",
    "    if num%2 == 0:\n",
    "        return True\n",
    "\n",
    "def myFilter(myFunc, myList):\n",
    "    opResult = []\n",
    "    for x in myList:\n",
    "        if myFunc(x) == True:\n",
    "            opResult.append(x)\n",
    "    return opResult\n",
    "lst = range(20)\n",
    "##list(myFilter(even_check,lst))\n",
    "list(filter(lambda x: x%2==0,lst))"
   ]
  },
  {
   "cell_type": "code",
   "execution_count": 1,
   "metadata": {},
   "outputs": [
    {
     "data": {
      "text/plain": [
       "['A', 'C', 'A', 'D', 'G', 'I', 'L', 'D']"
      ]
     },
     "execution_count": 1,
     "metadata": {},
     "output_type": "execute_result"
    }
   ],
   "source": [
    "strList = list('ACADGILD')\n",
    "strListopStr = list()\n",
    "inStr = input(\"Please enter values : \")\n",
    "for comma in inStr:\n",
    "    opStr.append(comma.upper())\n",
    "opStr"
   ]
  },
  {
   "cell_type": "code",
   "execution_count": 4,
   "metadata": {},
   "outputs": [
    {
     "name": "stdout",
     "output_type": "stream",
     "text": [
      "Please enter the string :acadgild\n"
     ]
    },
    {
     "data": {
      "text/plain": [
       "['A', 'C', 'A', 'D', 'G', 'I', 'L', 'D']"
      ]
     },
     "execution_count": 4,
     "metadata": {},
     "output_type": "execute_result"
    }
   ],
   "source": [
    "inStr = input(\"Please enter the string :\")\n",
    "x = [str.upper() for str in inStr]\n",
    "x"
   ]
  },
  {
   "cell_type": "code",
   "execution_count": 3,
   "metadata": {},
   "outputs": [
    {
     "name": "stdout",
     "output_type": "stream",
     "text": [
      "Please enter the string :xyz\n",
      "['x', 'y', 'z', 'xx', 'yy', 'zz', 'xxx', 'yyy', 'zzz', 'xxxx', 'yyyy', 'zzzz']\n"
     ]
    }
   ],
   "source": [
    "inStr = input(\"Please enter the string :\")\n",
    "opStr = [char*numStr for char in range(1,len(inStr)+2) for numStr in inStr]\n",
    "print(opStr)"
   ]
  },
  {
   "cell_type": "code",
   "execution_count": 4,
   "metadata": {},
   "outputs": [
    {
     "name": "stdout",
     "output_type": "stream",
     "text": [
      "Please enter the string :xyz\n",
      "['x', 'xx', 'xxx', 'xxxx', 'y', 'yy', 'yyy', 'yyyy', 'z', 'zz', 'zzz', 'zzzz']\n"
     ]
    }
   ],
   "source": [
    "inStr = input(\"Please enter the string :\")\n",
    "opStr = [char*numStr for char in inStr for numStr in range(1,len(inStr)+2)]\n",
    "print(opStr)"
   ]
  },
  {
   "cell_type": "code",
   "execution_count": 1,
   "metadata": {},
   "outputs": [
    {
     "name": "stdout",
     "output_type": "stream",
     "text": [
      "Please enter the single digit numbers without comma :234\n",
      "[[2], [3], [4], [3], [4], [5], [4], [5], [6]]\n"
     ]
    }
   ],
   "source": [
    "inStr = input(\"Please enter the single digit sequencial numbers without comma :\")\n",
    "opStr = [[int(tmpNum)+int(itr)] for tmpNum in inStr for itr in range(0,len(inStr))]\n",
    "print(opStr)"
   ]
  },
  {
   "cell_type": "code",
   "execution_count": 2,
   "metadata": {},
   "outputs": [
    {
     "name": "stdout",
     "output_type": "stream",
     "text": [
      "Please enter the single digit numbers without comma :2345\n",
      "[[2, 3, 4, 5], [3, 4, 5, 6], [4, 5, 6, 7], [5, 6, 7, 8]]\n"
     ]
    }
   ],
   "source": [
    "inStr = input(\"Please enter the single digit numbers without comma :\")\n",
    "opStr = [[int(tmpNum)+int(itr) for tmpNum in inStr] for itr in range(0,len(inStr))]\n",
    "print(opStr)"
   ]
  },
  {
   "cell_type": "code",
   "execution_count": 4,
   "metadata": {},
   "outputs": [
    {
     "name": "stdout",
     "output_type": "stream",
     "text": [
      "[[2, 3, 4, 5], [3, 4, 5, 6], [4, 5, 6, 7], [5, 6, 7, 8]]\n"
     ]
    }
   ],
   "source": [
    "opStr = [[j+i for j in range(2,6)] for i in range(4)] \n",
    "print(opStr)"
   ]
  },
  {
   "cell_type": "code",
   "execution_count": 5,
   "metadata": {},
   "outputs": [
    {
     "name": "stdout",
     "output_type": "stream",
     "text": [
      "Please enter the single digit numbers without comma :123\n",
      "[('1', '1'), ('1', '2'), ('1', '3'), ('2', '1'), ('2', '2'), ('2', '3'), ('3', '1'), ('3', '2'), ('3', '3')]\n"
     ]
    }
   ],
   "source": [
    "inStr = input(\"Please enter the single digit numbers without comma :\")\n",
    "opStr = [(start,end) for start in inStr for end in inStr] \n",
    "print(opStr)"
   ]
  },
  {
   "cell_type": "code",
   "execution_count": 6,
   "metadata": {},
   "outputs": [
    {
     "name": "stdout",
     "output_type": "stream",
     "text": [
      "Please enter the words :abc abcd abcde abcdef\n",
      "abcdef\n"
     ]
    }
   ],
   "source": [
    "def retLongestWord(inStr):\n",
    "    tempStr = sorted(inStr.split(), key = len)\n",
    "    print(tempStr[-1])\n",
    "\n",
    "inStr = input(\"Please enter the words :\")\n",
    "retLongestWord(inStr)"
   ]
  },
  {
   "cell_type": "code",
   "execution_count": 9,
   "metadata": {},
   "outputs": [
    {
     "name": "stdout",
     "output_type": "stream",
     "text": [
      "Please enter the words without comma :abc abcd abcde abcdef\n",
      "Please enter the max len filter criteria :4\n"
     ]
    },
    {
     "data": {
      "text/plain": [
       "['abcde', 'abcdef']"
      ]
     },
     "execution_count": 9,
     "metadata": {},
     "output_type": "execute_result"
    }
   ],
   "source": [
    "def filter_long_words(inStr, n):\n",
    "    if len(inStr) > int(n):\n",
    "        return True\n",
    "\n",
    "def getFilteredLenWords(myList, lenFilter):\n",
    "    opResult = []\n",
    "    inList = myList.split()\n",
    "    for x in inList[:]:\n",
    "        if filter_long_words(x,lenFilter) == True:\n",
    "            opResult.append(x)\n",
    "    return opResult\n",
    "inStr = input(\"Please enter the words without comma :\")\n",
    "lenFilter = input(\"Please enter the max len filter criteria :\")\n",
    "list(getFilteredLenWords(inStr,lenFilter))"
   ]
  },
  {
   "cell_type": "code",
   "execution_count": 2,
   "metadata": {},
   "outputs": [
    {
     "name": "stdout",
     "output_type": "stream",
     "text": [
      "Please enter the words :abc,abcd,abcde,abcdef\n"
     ]
    },
    {
     "data": {
      "text/plain": [
       "[3, 4, 5, 6]"
      ]
     },
     "execution_count": 2,
     "metadata": {},
     "output_type": "execute_result"
    }
   ],
   "source": [
    "def getLenOfWords(myList):\n",
    "    opResult = []\n",
    "    inList = myList.split(',')\n",
    "    for x in inList[:]:\n",
    "        opResult.append(len(x))\n",
    "    return opResult\n",
    "inStr = input(\"Please enter the words :\")\n",
    "list(getLenOfWords(inStr))"
   ]
  },
  {
   "cell_type": "code",
   "execution_count": 5,
   "metadata": {},
   "outputs": [
    {
     "name": "stdout",
     "output_type": "stream",
     "text": [
      "Please enter the char :U\n"
     ]
    },
    {
     "data": {
      "text/plain": [
       "True"
      ]
     },
     "execution_count": 5,
     "metadata": {},
     "output_type": "execute_result"
    }
   ],
   "source": [
    "def checkVowel(inChar):\n",
    "    vwLst = 'aeiou'\n",
    "    result = False\n",
    "    for x in vwLst:\n",
    "        if inChar.lower() == x:\n",
    "            result = True\n",
    "    return result\n",
    "inChar = input(\"Please enter the char :\")\n",
    "checkVowel(inChar)"
   ]
  },
  {
   "cell_type": "code",
   "execution_count": 1,
   "metadata": {},
   "outputs": [
    {
     "name": "stdout",
     "output_type": "stream",
     "text": [
      "Americans  play Baseball\n",
      "Americans  play Cricket\n",
      "Americans  watch Baseball\n",
      "Americans  watch Cricket\n",
      "Indians play Baseball\n",
      "Indians play Cricket\n",
      "Indians watch Baseball\n",
      "Indians watch Cricket\n",
      "Americans  play Baseball\n",
      "Americans  play Cricket\n",
      "Americans  watch Baseball\n",
      "Americans  watch Cricket\n",
      "Indians play Baseball\n",
      "Indians play Cricket\n",
      "Indians watch Baseball\n",
      "Indians watch Cricket\n"
     ]
    }
   ],
   "source": [
    "subjects=[\"Americans \",\"Indians\"]\n",
    "verbs=[\"play\",\"watch\"]\n",
    "objects=[\"Baseball\",\"Cricket\"]\n",
    "for i in subjects:\n",
    "    for j in verbs:\n",
    "        for k in objects:\n",
    "            print(i + ' ' + j + ' ' + k)\n",
    "### or\n",
    "listOfStatements = [(i + ' ' + j + ' ' + k) for i in subjects for j in verbs for k in objects]\n",
    "for statement in listOfStatements:\n",
    "    print(statement)"
   ]
  }
 ],
 "metadata": {
  "kernelspec": {
   "display_name": "Python 3",
   "language": "python",
   "name": "python3"
  },
  "language_info": {
   "codemirror_mode": {
    "name": "ipython",
    "version": 3
   },
   "file_extension": ".py",
   "mimetype": "text/x-python",
   "name": "python",
   "nbconvert_exporter": "python",
   "pygments_lexer": "ipython3",
   "version": "3.7.3"
  }
 },
 "nbformat": 4,
 "nbformat_minor": 2
}
